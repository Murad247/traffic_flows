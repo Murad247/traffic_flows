{
 "cells": [
  {
   "cell_type": "code",
   "execution_count": 3,
   "id": "82db176c-f104-4400-a304-d549b5845651",
   "metadata": {
    "code_folding": [
     40
    ],
    "scrolled": true
   },
   "outputs": [
    {
     "name": "stdout",
     "output_type": "stream",
     "text": [
      "56 ['predict', 'predict2', 'predict3', 'predict4', 'predict5', 'predict6', 'predict7', 'predict8', 'predict9', 'predict10', 'predict11', 'predict12', 'predict13', 'predict14', 'predict15', 'predict16', 'predict17', 'predict18', 'predict19', 'predict20', 'predict21', 'predict22', 'predict23', 'predict24', 'predict25', 'predict26', 'predict27', 'predict28', 'predict29', 'predict30', 'predict31', 'predict32', 'predict33', 'predict34', 'predict35', 'predict36', 'predict37', 'predict38', 'predict39', 'predict40', 'predict41', 'predict42', 'predict43', 'predict44', 'predict45', 'predict46', 'predict47', 'predict48', 'predict49', 'predict50', 'predict51', 'predict52', 'predict53', 'predict54', 'predict55', 'predict56']\n",
      "044.mp4 predict45\n"
     ]
    },
    {
     "name": "stderr",
     "output_type": "stream",
     "text": [
      "C:\\Users\\mmill\\AppData\\Local\\Temp\\ipykernel_22552\\3434474286.py:161: FutureWarning: Calling int on a single element Series is deprecated and will raise a TypeError in the future. Use int(ser.iloc[0]) instead\n",
      "  sp3['count'] = [int(sp1[sp1['class'] == 2]['id']), int(sp1[sp1['class'] == 7]['id']), int(sp1[sp1['class'] == 5]['id'])]\n",
      "C:\\Users\\mmill\\AppData\\Local\\Temp\\ipykernel_22552\\3434474286.py:162: FutureWarning: Calling float on a single element Series is deprecated and will raise a TypeError in the future. Use float(ser.iloc[0]) instead\n",
      "  sp3['speed'] = [float(sp2[sp2['class'] == 2]['val']), float(sp2[sp2['class'] == 7]['val']), float(sp2[sp2['class'] == 5]['val'])]\n"
     ]
    },
    {
     "name": "stdout",
     "output_type": "stream",
     "text": [
      "[2.0, 240.0, 42.67029067423805, 7.0, 15.0, 42.221407944282454, 5.0, 1.0, 42.221407944282454]\n",
      "045.mp4 predict46\n"
     ]
    },
    {
     "name": "stderr",
     "output_type": "stream",
     "text": [
      "C:\\Users\\mmill\\AppData\\Local\\Temp\\ipykernel_22552\\3434474286.py:161: FutureWarning: Calling int on a single element Series is deprecated and will raise a TypeError in the future. Use int(ser.iloc[0]) instead\n",
      "  sp3['count'] = [int(sp1[sp1['class'] == 2]['id']), int(sp1[sp1['class'] == 7]['id']), int(sp1[sp1['class'] == 5]['id'])]\n",
      "C:\\Users\\mmill\\AppData\\Local\\Temp\\ipykernel_22552\\3434474286.py:162: FutureWarning: Calling float on a single element Series is deprecated and will raise a TypeError in the future. Use float(ser.iloc[0]) instead\n",
      "  sp3['speed'] = [float(sp2[sp2['class'] == 2]['val']), float(sp2[sp2['class'] == 7]['val']), float(sp2[sp2['class'] == 5]['val'])]\n"
     ]
    },
    {
     "name": "stdout",
     "output_type": "stream",
     "text": [
      "[2.0, 388.0, 20.283862383836475, 7.0, 13.0, 20.72464937230026, 5.0, 3.0, 20.660569384704605]\n",
      "046.mp4 predict47\n"
     ]
    },
    {
     "name": "stderr",
     "output_type": "stream",
     "text": [
      "C:\\Users\\mmill\\AppData\\Local\\Temp\\ipykernel_22552\\3434474286.py:161: FutureWarning: Calling int on a single element Series is deprecated and will raise a TypeError in the future. Use int(ser.iloc[0]) instead\n",
      "  sp3['count'] = [int(sp1[sp1['class'] == 2]['id']), int(sp1[sp1['class'] == 7]['id']), int(sp1[sp1['class'] == 5]['id'])]\n",
      "C:\\Users\\mmill\\AppData\\Local\\Temp\\ipykernel_22552\\3434474286.py:162: FutureWarning: Calling float on a single element Series is deprecated and will raise a TypeError in the future. Use float(ser.iloc[0]) instead\n",
      "  sp3['speed'] = [float(sp2[sp2['class'] == 2]['val']), float(sp2[sp2['class'] == 7]['val']), float(sp2[sp2['class'] == 5]['val'])]\n"
     ]
    },
    {
     "name": "stdout",
     "output_type": "stream",
     "text": [
      "[2.0, 462.0, 17.03132486044422, 7.0, 9.0, 17.214663450749928, 5.0, 4.0, 16.993136387791946]\n",
      "047.mp4 predict48\n"
     ]
    },
    {
     "name": "stderr",
     "output_type": "stream",
     "text": [
      "C:\\Users\\mmill\\AppData\\Local\\Temp\\ipykernel_22552\\3434474286.py:161: FutureWarning: Calling int on a single element Series is deprecated and will raise a TypeError in the future. Use int(ser.iloc[0]) instead\n",
      "  sp3['count'] = [int(sp1[sp1['class'] == 2]['id']), int(sp1[sp1['class'] == 7]['id']), int(sp1[sp1['class'] == 5]['id'])]\n",
      "C:\\Users\\mmill\\AppData\\Local\\Temp\\ipykernel_22552\\3434474286.py:162: FutureWarning: Calling float on a single element Series is deprecated and will raise a TypeError in the future. Use float(ser.iloc[0]) instead\n",
      "  sp3['speed'] = [float(sp2[sp2['class'] == 2]['val']), float(sp2[sp2['class'] == 7]['val']), float(sp2[sp2['class'] == 5]['val'])]\n"
     ]
    },
    {
     "name": "stdout",
     "output_type": "stream",
     "text": [
      "[2.0, 451.0, 11.27925672190313, 7.0, 19.0, 12.13545889716831, 5.0, 3.0, 12.14236129684015]\n",
      "048.mp4 predict49\n"
     ]
    },
    {
     "name": "stderr",
     "output_type": "stream",
     "text": [
      "C:\\Users\\mmill\\AppData\\Local\\Temp\\ipykernel_22552\\3434474286.py:161: FutureWarning: Calling int on a single element Series is deprecated and will raise a TypeError in the future. Use int(ser.iloc[0]) instead\n",
      "  sp3['count'] = [int(sp1[sp1['class'] == 2]['id']), int(sp1[sp1['class'] == 7]['id']), int(sp1[sp1['class'] == 5]['id'])]\n",
      "C:\\Users\\mmill\\AppData\\Local\\Temp\\ipykernel_22552\\3434474286.py:162: FutureWarning: Calling float on a single element Series is deprecated and will raise a TypeError in the future. Use float(ser.iloc[0]) instead\n",
      "  sp3['speed'] = [float(sp2[sp2['class'] == 2]['val']), float(sp2[sp2['class'] == 7]['val']), float(sp2[sp2['class'] == 5]['val'])]\n"
     ]
    },
    {
     "name": "stdout",
     "output_type": "stream",
     "text": [
      "[2.0, 300.0, 10.353089491430632, 7.0, 29.0, 11.43098499360336, 5.0, 4.0, 11.394213288440337]\n",
      "049.mp4 predict50\n"
     ]
    },
    {
     "name": "stderr",
     "output_type": "stream",
     "text": [
      "C:\\Users\\mmill\\AppData\\Local\\Temp\\ipykernel_22552\\3434474286.py:161: FutureWarning: Calling int on a single element Series is deprecated and will raise a TypeError in the future. Use int(ser.iloc[0]) instead\n",
      "  sp3['count'] = [int(sp1[sp1['class'] == 2]['id']), int(sp1[sp1['class'] == 7]['id']), int(sp1[sp1['class'] == 5]['id'])]\n",
      "C:\\Users\\mmill\\AppData\\Local\\Temp\\ipykernel_22552\\3434474286.py:162: FutureWarning: Calling float on a single element Series is deprecated and will raise a TypeError in the future. Use float(ser.iloc[0]) instead\n",
      "  sp3['speed'] = [float(sp2[sp2['class'] == 2]['val']), float(sp2[sp2['class'] == 7]['val']), float(sp2[sp2['class'] == 5]['val'])]\n"
     ]
    },
    {
     "name": "stdout",
     "output_type": "stream",
     "text": [
      "[2.0, 457.0, 26.328400526746893, 7.0, 23.0, 26.712292107865377, 5.0, 8.0, 26.707276485785385]\n",
      "050.mp4 predict51\n"
     ]
    },
    {
     "name": "stderr",
     "output_type": "stream",
     "text": [
      "C:\\Users\\mmill\\AppData\\Local\\Temp\\ipykernel_22552\\3434474286.py:161: FutureWarning: Calling int on a single element Series is deprecated and will raise a TypeError in the future. Use int(ser.iloc[0]) instead\n",
      "  sp3['count'] = [int(sp1[sp1['class'] == 2]['id']), int(sp1[sp1['class'] == 7]['id']), int(sp1[sp1['class'] == 5]['id'])]\n",
      "C:\\Users\\mmill\\AppData\\Local\\Temp\\ipykernel_22552\\3434474286.py:162: FutureWarning: Calling float on a single element Series is deprecated and will raise a TypeError in the future. Use float(ser.iloc[0]) instead\n",
      "  sp3['speed'] = [float(sp2[sp2['class'] == 2]['val']), float(sp2[sp2['class'] == 7]['val']), float(sp2[sp2['class'] == 5]['val'])]\n"
     ]
    },
    {
     "name": "stdout",
     "output_type": "stream",
     "text": [
      "[2.0, 420.0, 28.408410623683576, 7.0, 22.0, 28.628097373034084, 5.0, 7.0, 28.403003541051223]\n",
      "051.mp4 predict52\n"
     ]
    },
    {
     "name": "stderr",
     "output_type": "stream",
     "text": [
      "C:\\Users\\mmill\\AppData\\Local\\Temp\\ipykernel_22552\\3434474286.py:161: FutureWarning: Calling int on a single element Series is deprecated and will raise a TypeError in the future. Use int(ser.iloc[0]) instead\n",
      "  sp3['count'] = [int(sp1[sp1['class'] == 2]['id']), int(sp1[sp1['class'] == 7]['id']), int(sp1[sp1['class'] == 5]['id'])]\n",
      "C:\\Users\\mmill\\AppData\\Local\\Temp\\ipykernel_22552\\3434474286.py:162: FutureWarning: Calling float on a single element Series is deprecated and will raise a TypeError in the future. Use float(ser.iloc[0]) instead\n",
      "  sp3['speed'] = [float(sp2[sp2['class'] == 2]['val']), float(sp2[sp2['class'] == 7]['val']), float(sp2[sp2['class'] == 5]['val'])]\n"
     ]
    },
    {
     "name": "stdout",
     "output_type": "stream",
     "text": [
      "[2.0, 129.0, 26.04372454392373, 7.0, 4.0, 26.10825707092525, 5.0, 26.0, 11.85805205628093]\n",
      "052.mp4 predict53\n"
     ]
    },
    {
     "name": "stderr",
     "output_type": "stream",
     "text": [
      "C:\\Users\\mmill\\AppData\\Local\\Temp\\ipykernel_22552\\3434474286.py:161: FutureWarning: Calling int on a single element Series is deprecated and will raise a TypeError in the future. Use int(ser.iloc[0]) instead\n",
      "  sp3['count'] = [int(sp1[sp1['class'] == 2]['id']), int(sp1[sp1['class'] == 7]['id']), int(sp1[sp1['class'] == 5]['id'])]\n",
      "C:\\Users\\mmill\\AppData\\Local\\Temp\\ipykernel_22552\\3434474286.py:162: FutureWarning: Calling float on a single element Series is deprecated and will raise a TypeError in the future. Use float(ser.iloc[0]) instead\n",
      "  sp3['speed'] = [float(sp2[sp2['class'] == 2]['val']), float(sp2[sp2['class'] == 7]['val']), float(sp2[sp2['class'] == 5]['val'])]\n"
     ]
    },
    {
     "name": "stdout",
     "output_type": "stream",
     "text": [
      "[2.0, 163.0, 34.85887841597163, 7.0, 3.0, 34.705084948661565, 5.0, 4.0, 33.94032096914796]\n",
      "053.mp4 predict54\n"
     ]
    },
    {
     "name": "stderr",
     "output_type": "stream",
     "text": [
      "C:\\Users\\mmill\\AppData\\Local\\Temp\\ipykernel_22552\\3434474286.py:161: FutureWarning: Calling int on a single element Series is deprecated and will raise a TypeError in the future. Use int(ser.iloc[0]) instead\n",
      "  sp3['count'] = [int(sp1[sp1['class'] == 2]['id']), int(sp1[sp1['class'] == 7]['id']), int(sp1[sp1['class'] == 5]['id'])]\n",
      "C:\\Users\\mmill\\AppData\\Local\\Temp\\ipykernel_22552\\3434474286.py:162: FutureWarning: Calling float on a single element Series is deprecated and will raise a TypeError in the future. Use float(ser.iloc[0]) instead\n",
      "  sp3['speed'] = [float(sp2[sp2['class'] == 2]['val']), float(sp2[sp2['class'] == 7]['val']), float(sp2[sp2['class'] == 5]['val'])]\n"
     ]
    },
    {
     "name": "stdout",
     "output_type": "stream",
     "text": [
      "[2.0, 152.0, 34.317222954432445, 7.0, 8.0, 33.75238778481331, 5.0, 4.0, 32.7192838479234]\n",
      "054.mp4 predict55\n"
     ]
    },
    {
     "name": "stderr",
     "output_type": "stream",
     "text": [
      "C:\\Users\\mmill\\AppData\\Local\\Temp\\ipykernel_22552\\3434474286.py:161: FutureWarning: Calling int on a single element Series is deprecated and will raise a TypeError in the future. Use int(ser.iloc[0]) instead\n",
      "  sp3['count'] = [int(sp1[sp1['class'] == 2]['id']), int(sp1[sp1['class'] == 7]['id']), int(sp1[sp1['class'] == 5]['id'])]\n",
      "C:\\Users\\mmill\\AppData\\Local\\Temp\\ipykernel_22552\\3434474286.py:162: FutureWarning: Calling float on a single element Series is deprecated and will raise a TypeError in the future. Use float(ser.iloc[0]) instead\n",
      "  sp3['speed'] = [float(sp2[sp2['class'] == 2]['val']), float(sp2[sp2['class'] == 7]['val']), float(sp2[sp2['class'] == 5]['val'])]\n"
     ]
    },
    {
     "name": "stdout",
     "output_type": "stream",
     "text": [
      "[2.0, 288.0, 20.59209350771543, 7.0, 24.0, 20.666490401547374, 5.0, 9.0, 20.525895979660053]\n",
      "055.mp4 predict56\n",
      "[2.0, 293.0, 22.3182499920562, 7.0, 20.0, 22.354246224135704, 5.0, 9.0, 22.25357582515315]\n"
     ]
    },
    {
     "name": "stderr",
     "output_type": "stream",
     "text": [
      "C:\\Users\\mmill\\AppData\\Local\\Temp\\ipykernel_22552\\3434474286.py:161: FutureWarning: Calling int on a single element Series is deprecated and will raise a TypeError in the future. Use int(ser.iloc[0]) instead\n",
      "  sp3['count'] = [int(sp1[sp1['class'] == 2]['id']), int(sp1[sp1['class'] == 7]['id']), int(sp1[sp1['class'] == 5]['id'])]\n",
      "C:\\Users\\mmill\\AppData\\Local\\Temp\\ipykernel_22552\\3434474286.py:162: FutureWarning: Calling float on a single element Series is deprecated and will raise a TypeError in the future. Use float(ser.iloc[0]) instead\n",
      "  sp3['speed'] = [float(sp2[sp2['class'] == 2]['val']), float(sp2[sp2['class'] == 7]['val']), float(sp2[sp2['class'] == 5]['val'])]\n"
     ]
    }
   ],
   "source": [
    "import cv2\n",
    "import json\n",
    "import pandas as pd\n",
    "import os\n",
    "import numpy as np\n",
    "import csv\n",
    "from ast import literal_eval\n",
    "from shapely.geometry import Polygon\n",
    "\n",
    "names = os.listdir('runs\\\\detect')[:]\n",
    "names2 = []\n",
    "\n",
    "# Сортируем файлы predict\n",
    "for name in names:\n",
    "    if name[7:] != '':\n",
    "        names2.append(int(name[7:]))\n",
    "    else:\n",
    "        names2.append(0)\n",
    "\n",
    "names2.sort()\n",
    "\n",
    "for i, num in enumerate(names2):\n",
    "    if num != 0:\n",
    "        names[i] = 'predict' + str(num)\n",
    "    else:\n",
    "        names[i] = 'predict'\n",
    "X, Y = 1920, 1280\n",
    "\n",
    "filenames = os.listdir('test\\\\Test_Newest_2')\n",
    "\n",
    "def area_interest():\n",
    "    a = []\n",
    "    for txt in text['areas']:\n",
    "        for j in txt:\n",
    "            a.append([j[0] * X, j[1] * Y])\n",
    "    leftmost_point, *_, rightmost_point = sorted(a, key=lambda lst: lst[0])\n",
    "    x1, y1 = leftmost_point\n",
    "    x2, y2 = rightmost_point\n",
    "    border_slope = (y2 - y1) / (x2 - x1)\n",
    "    \n",
    "    points_below_border = [(x1, y1)]\n",
    "    points_above_border = [(x2, y2)]\n",
    "    \n",
    "    for x, y in a:\n",
    "        border = border_slope * (x - x1) + y1\n",
    "        if y < border:\n",
    "            points_below_border.append((x, y))\n",
    "        elif y > border:\n",
    "            points_above_border.append((x, y))\n",
    "    \n",
    "    points_below_border.sort()\n",
    "    points_above_border.sort(reverse=True)\n",
    "    \n",
    "    points_above_border.append((x1, y1))\n",
    "    \n",
    "    merged_points = points_below_border + points_above_border\n",
    "    return merged_points\n",
    "\n",
    "def PolyArea(x, y):  # x и y - списки соответствующих координат\n",
    "    return 0.5 * np.abs(np.dot(x, np.roll(y, 1)) - np.dot(y, np.roll(x, 1)))\n",
    "\n",
    "\n",
    "path1 = 'runs\\\\detect\\\\'\n",
    "path2 = 'test\\\\Test_markup'"
   ]
  },
  {
   "cell_type": "code",
   "execution_count": null,
   "id": "4084d348",
   "metadata": {},
   "outputs": [],
   "source": [
    "with open('track_predict.csv', 'a', newline='') as csv_file:\n",
    "    writer = csv.writer(csv_file)\n",
    "    writer.writerow([\"file_name\",\"quantity_car\",\"average_speed_car\",\"quantity_van\",\"average_speed_van\",\"quantity_bus\",\"average_speed_bus\"])\n",
    "    for i1 in range(len(names)):\n",
    "        with open(os.path.join(path2, filenames[i][:-3] + 'json'), 'r', encoding='utf-8') as f:\n",
    "            text = json.load(f)\n",
    "        all_data = []\n",
    "        alldata = pd.DataFrame()\n",
    "        clipping_polygon = np.array(area_interest())\n",
    "        clipped_polygon = []\n",
    "        speeds = 0\n",
    "        ls = 0\n",
    "        for (root, dirs, file) in os.walk(path1 + names[i]):\n",
    "            predid = pd.DataFrame([[0, 0, 0, 0, 0, 0]], columns = ['class', 'x1', 'y1', 'x2', 'y2', 'id'])\n",
    "            predcentroid = False\n",
    "            for f in file:\n",
    "\n",
    "\n",
    "                data = pd.read_csv(root + '/' + f, sep=' ', header=None)\n",
    "                if data.shape[1] != 6:\n",
    "                    ls += 1\n",
    "                    continue\n",
    "                data.columns = ['class', 'x1', 'y1', 'x2', 'y2', 'id']\n",
    "                if len(alldata) == 0:\n",
    "                    alldata = data\n",
    "                else:\n",
    "                    alldata = pd.concat([alldata, data])\n",
    "                for j in range(len(data)):\n",
    "                    x1, y1, x2, y2 = data.iloc[j][['x1', 'y1', 'x2', 'y2']]\n",
    "                    x1, x2 = x1 * X, (x2 * X) / 2\n",
    "                    y1, y2 = y1 * Y, (y2 * Y) / 2\n",
    "                    subject_polygon = np.array([[x1 - x2, y1 - y2], [x1 + x2, y1- y2], [x1 + x2, y1 +y2], [x1 - x2, y1 +y2], [x1 - x2, y1- y2]])\n",
    "                    Inter = Polygon(subject_polygon).intersection(Polygon(clipping_polygon))\n",
    "                    clipped_polygon = Inter\n",
    "                    if Inter:\n",
    "                        if clipped_polygon.geom_type == 'MultiPolygon':\n",
    "                            for z in clipped_polygon.geoms:\n",
    "                                x, y = z.exterior.xy\n",
    "                        else:\n",
    "                            x, y = clipped_polygon.exterior.xy\n",
    "                        if round(PolyArea(x, y) / PolyArea(subject_polygon[:, 0], subject_polygon[:, 1]), 4) * 100 > 1:\n",
    "                            centroid = (sum(subject_polygon[:, 0]) / len(subject_polygon), sum(subject_polygon[:, 1]) / len(subject_polygon))\n",
    "                            all_data.append([data.iloc[j]['class'], data.iloc[j]['id'], centroid])\n",
    "\n",
    "        all_data = pd.DataFrame(all_data, columns=['class', 'id', 'centr'])                \n",
    "        all1 = all_data[all_data.groupby('id').id.transform(len) > 1]\n",
    "        all1 = all1.drop_duplicates('id')\n",
    "        sp1 = pd.DataFrame(all1.groupby('class').count()['id'])\n",
    "\n",
    "        sp2 = []\n",
    "        speeds = []\n",
    "        for j in all_data['class'].unique():\n",
    "            for i in all_data['id'].unique():\n",
    "                now = all_data[(all_data['id'] == i) & (all_data['class'] == j)]\n",
    "                if len(now) <= 1:\n",
    "                    continue\n",
    "                if len(now) > 5:\n",
    "                    speeds.append(20 / len(now) * 3.6 * 5)\n",
    "\n",
    "            sp2.append([j, sum(speeds) / len(speeds)])\n",
    "\n",
    "        sp2 = pd.DataFrame(sp2, columns=['class', 'val'])\n",
    "        sp1.reset_index()\n",
    "        sp1['class'] = sp1.index\n",
    "        sp2.reset_index()\n",
    "        sp3 = pd.DataFrame([], columns=['class', 'count', 'speed'])\n",
    "        sp3['class'] = [2, 7, 5]\n",
    "        if 2.0 not in sp1['class']:\n",
    "            sp1.loc[len(sp1.index)] = [0, 0]\n",
    "        if 7.0 not in sp1['class']:\n",
    "            sp1.loc[len(sp1.index)] = [0, 0]\n",
    "        if 5.0 not in sp1['class']:\n",
    "            sp1.loc[len(sp1.index)] = [0, 0]\n",
    "\n",
    "        if 2.0 not in sp2['class']:\n",
    "            sp2.loc[len(sp2.index)] = [0, 0]\n",
    "        if 7.0 not in sp2['class']:\n",
    "            sp2.loc[len(sp2.index)] = [0, 0]\n",
    "        if 5.0 not in sp2['class']:\n",
    "            sp2.loc[len(sp2.index)] = [0, 0]\n",
    "\n",
    "        sp3['count'] = [int(sp1[sp1['class'] == 2]['id']), int(sp1[sp1['class'] == 7]['id']), int(sp1[sp1['class'] == 5]['id'])]\n",
    "        sp3['speed'] = [float(sp2[sp2['class'] == 2]['val']), float(sp2[sp2['class'] == 7]['val']), float(sp2[sp2['class'] == 5]['val'])]\n",
    "        spall = []\n",
    "        for j in range(3):\n",
    "            spall.append(sp3.iloc[j]['class'])\n",
    "            spall.append(sp3.iloc[j]['count'])\n",
    "            spall.append(sp3.iloc[j]['speed'])\n",
    "\n",
    "        print(spall)\n",
    "\n",
    "        writer.writerow([int(i1), spall[1], spall[2], spall[4], spall[5], spall[7], spall[8]])\n",
    "        csv_file.flush()"
   ]
  }
 ],
 "metadata": {
  "kernelspec": {
   "display_name": "Python 3 (ipykernel)",
   "language": "python",
   "name": "python3"
  },
  "language_info": {
   "codemirror_mode": {
    "name": "ipython",
    "version": 3
   },
   "file_extension": ".py",
   "mimetype": "text/x-python",
   "name": "python",
   "nbconvert_exporter": "python",
   "pygments_lexer": "ipython3",
   "version": "3.9.18"
  }
 },
 "nbformat": 4,
 "nbformat_minor": 5
}
