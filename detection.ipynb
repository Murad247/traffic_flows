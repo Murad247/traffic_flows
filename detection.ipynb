{
 "cells": [
  {
   "cell_type": "code",
   "execution_count": 5,
   "id": "f53cfc34",
   "metadata": {},
   "outputs": [],
   "source": [
    "import cv2\n",
    "from ultralytics import YOLO\n",
    "import os\n",
    "\n",
    "model = YOLO('yolov8x.pt')"
   ]
  },
  {
   "cell_type": "code",
   "execution_count": 6,
   "id": "da059811",
   "metadata": {
    "scrolled": true
   },
   "outputs": [
    {
     "name": "stdout",
     "output_type": "stream",
     "text": [
      "0 300 600 900 1200 1500 1800 2100 2400 2700 3000 3300 3600 3900 4200 4500 4800 5100 5400 5700 6000 6300 6600 6900 7200 7500 7800 8100 8400 8700 9000 9300 9600 9900 10200 10500 10800 11100 11400 11700 12000 12300 12600 12900 13200 13500 13800 14100 14400 14700 15000 15300 15600 15900 16200 16500 16800 17100 17400 17700 18000 18300 18600 18900 19200 19500 19800 20100 20400 20700 21000 21300 21600 21900 22200 22500 22800 23100 23400 23700 24000 24300 24600 24900 25200 25500 25800 26100 26400 26700 27000 27300 27600 27900 28200 28500 28800 29100 29400 29700 30000 30300 30600 30900 31200 31500 31800 32100 32400 32700 33000 33300 33600 33900 34200 34500 34800 35100 35400 35700 36000 CPU times: total: 11min 6s\n",
      "Wall time: 8min 35s\n"
     ]
    }
   ],
   "source": [
    "%%time\n",
    "\n",
    "# Выбираем одно видео\n",
    "video_name = os.listdir('F:\\\\hac\\\\videos')[0]\n",
    "\n",
    "video_path = 'F:\\\\hac\\\\videos\\\\' + video_name\n",
    "cap = cv2.VideoCapture(video_path)\n",
    "\n",
    "i = 0\n",
    "x = 6 # обрабатываем каждые 6-ой кадр (5 кадров в секунду)\n",
    "while cap.isOpened():\n",
    "    success, frame = cap.read()\n",
    "    if i % x == 0:\n",
    "        if success:\n",
    "            results = model.track(frame, imgsz=640, save_txt=True,# exist_ok=True, \n",
    "                                  persist=True, verbose=False, classes=[1,2,3,5,7])\n",
    "                                  \n",
    "        else:\n",
    "            break\n",
    "    i += 1\n",
    "cap.release()\n",
    "cv2.destroyAllWindows()"
   ]
  },
  {
   "cell_type": "code",
   "execution_count": null,
   "id": "b79d1715",
   "metadata": {},
   "outputs": [],
   "source": []
  }
 ],
 "metadata": {
  "kernelspec": {
   "display_name": "Python 3 (ipykernel)",
   "language": "python",
   "name": "python3"
  },
  "language_info": {
   "codemirror_mode": {
    "name": "ipython",
    "version": 3
   },
   "file_extension": ".py",
   "mimetype": "text/x-python",
   "name": "python",
   "nbconvert_exporter": "python",
   "pygments_lexer": "ipython3",
   "version": "3.9.18"
  }
 },
 "nbformat": 4,
 "nbformat_minor": 5
}
